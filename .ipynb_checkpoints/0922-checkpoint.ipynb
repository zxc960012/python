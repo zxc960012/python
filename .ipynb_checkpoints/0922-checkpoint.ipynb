{
 "cells": [
  {
   "cell_type": "code",
   "execution_count": 5,
   "metadata": {},
   "outputs": [],
   "source": [
    "names = [\"richard\", \"tam\", \"mary\"]\n",
    "heights = [1.74, 1.85, 1.50]\n",
    "weights = [64, 72, 45]\n",
    "bmis = list()\n",
    "for i in range(len(names)):\n",
    "    bmi = weights[i] /heights[i]**2\n",
    "    bmis.append(bmi)\n",
    "    #print(names[i], \"的bmi是\", round(bmi, 2))"
   ]
  },
  {
   "cell_type": "code",
   "execution_count": null,
   "metadata": {},
   "outputs": [],
   "source": []
  },
  {
   "cell_type": "code",
   "execution_count": null,
   "metadata": {},
   "outputs": [],
   "source": []
  }
 ],
 "metadata": {
  "kernelspec": {
   "display_name": "Python 3",
   "language": "python",
   "name": "python3"
  },
  "language_info": {
   "codemirror_mode": {
    "name": "ipython",
    "version": 3
   },
   "file_extension": ".py",
   "mimetype": "text/x-python",
   "name": "python",
   "nbconvert_exporter": "python",
   "pygments_lexer": "ipython3",
   "version": "3.7.4"
  }
 },
 "nbformat": 4,
 "nbformat_minor": 2
}
